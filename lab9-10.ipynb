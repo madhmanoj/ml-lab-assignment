{
 "cells": [
  {
   "cell_type": "code",
   "execution_count": 14,
   "metadata": {},
   "outputs": [
    {
     "data": {
      "text/html": [
       "<div>\n",
       "<style scoped>\n",
       "    .dataframe tbody tr th:only-of-type {\n",
       "        vertical-align: middle;\n",
       "    }\n",
       "\n",
       "    .dataframe tbody tr th {\n",
       "        vertical-align: top;\n",
       "    }\n",
       "\n",
       "    .dataframe thead th {\n",
       "        text-align: right;\n",
       "    }\n",
       "</style>\n",
       "<table border=\"1\" class=\"dataframe\">\n",
       "  <thead>\n",
       "    <tr style=\"text-align: right;\">\n",
       "      <th></th>\n",
       "      <th>Category</th>\n",
       "      <th>Message</th>\n",
       "    </tr>\n",
       "  </thead>\n",
       "  <tbody>\n",
       "    <tr>\n",
       "      <th>0</th>\n",
       "      <td>ham</td>\n",
       "      <td>Go until jurong point, crazy.. Available only ...</td>\n",
       "    </tr>\n",
       "    <tr>\n",
       "      <th>1</th>\n",
       "      <td>ham</td>\n",
       "      <td>Ok lar... Joking wif u oni...</td>\n",
       "    </tr>\n",
       "    <tr>\n",
       "      <th>2</th>\n",
       "      <td>spam</td>\n",
       "      <td>Free entry in 2 a wkly comp to win FA Cup fina...</td>\n",
       "    </tr>\n",
       "    <tr>\n",
       "      <th>3</th>\n",
       "      <td>ham</td>\n",
       "      <td>U dun say so early hor... U c already then say...</td>\n",
       "    </tr>\n",
       "    <tr>\n",
       "      <th>4</th>\n",
       "      <td>ham</td>\n",
       "      <td>Nah I don't think he goes to usf, he lives aro...</td>\n",
       "    </tr>\n",
       "  </tbody>\n",
       "</table>\n",
       "</div>"
      ],
      "text/plain": [
       "  Category                                            Message\n",
       "0      ham  Go until jurong point, crazy.. Available only ...\n",
       "1      ham                      Ok lar... Joking wif u oni...\n",
       "2     spam  Free entry in 2 a wkly comp to win FA Cup fina...\n",
       "3      ham  U dun say so early hor... U c already then say...\n",
       "4      ham  Nah I don't think he goes to usf, he lives aro..."
      ]
     },
     "execution_count": 14,
     "metadata": {},
     "output_type": "execute_result"
    }
   ],
   "source": [
    "import pandas as pd\n",
    "import numpy as np\n",
    "\n",
    "df = pd.read_csv(\"data/lab3.csv\")\n",
    "df.head()"
   ]
  },
  {
   "cell_type": "code",
   "execution_count": 15,
   "metadata": {},
   "outputs": [],
   "source": [
    "from sklearn.model_selection import train_test_split\n",
    "\n",
    "# Creating similar size samples of ham and spam\n",
    "ham = df[df['Category'] == 'ham']\n",
    "spam = df[df['Category'] == 'spam']\n",
    "ham = ham.sample(spam.shape[0])\n",
    "\n",
    "# Now combine these to form a dataset\n",
    "dataset = pd.concat([ham, spam], ignore_index=True)\n",
    "\n",
    "# Split for training and testing \n",
    "X_train, X_test, y_train, y_test = train_test_split(dataset['Message'], dataset['Category'], test_size=0.3)\n",
    "\n",
    "# Convert to numeric vector format for model\n",
    "# Integer feature counts work better than fractional counts like tf-idf\n",
    "from sklearn.feature_extraction.text import TfidfVectorizer\n",
    "ctvector = TfidfVectorizer()\n",
    "X_train = ctvector.fit_transform(X_train).toarray()\n",
    "X_test = ctvector.transform(X_test).toarray()"
   ]
  },
  {
   "cell_type": "code",
   "execution_count": 21,
   "metadata": {},
   "outputs": [
    {
     "name": "stdout",
     "output_type": "stream",
     "text": [
      "{'cluster': 3, 'accuracy_score': 0.007776861115919134}\n",
      "{'cluster': 5, 'accuracy_score': 0.00959434605733763}\n"
     ]
    }
   ],
   "source": [
    "# A1 \n",
    "# K-means clustering with k = 3 and k = 5\n",
    "# Silhoette score is a metric used to evaluate how good clustering results are  \n",
    "# in data clustering \n",
    "from sklearn.cluster import KMeans\n",
    "from sklearn.metrics import silhouette_score\n",
    "\n",
    "def kmeans(n, flag = False):\n",
    "    # Training model and fitting training data\n",
    "    model = KMeans(n_clusters=n, random_state=0, n_init=\"auto\")\n",
    "    model.fit(X_train)\n",
    "\n",
    "    # Predicting labels for test data\n",
    "    labels = model.predict(X_test)\n",
    "\n",
    "    if flag == True:\n",
    "        # Testing accuracy of clustering model\n",
    "        silhouette_avg = silhouette_score(X_test, labels)\n",
    "    return {\"cluster\":n, \"accuracy_score\":silhouette_avg} if flag == True else None\n",
    "\n",
    "\n",
    "# Number of clusters\n",
    "num_of_clusters = 3\n",
    "print(kmeans(3, True))\n",
    "print(kmeans(5, True))"
   ]
  },
  {
   "cell_type": "code",
   "execution_count": null,
   "metadata": {},
   "outputs": [],
   "source": [
    "# A2 \n",
    "# Determine the k-value for your dataset; k = {1, 31}\n",
    "# Use elbow method to determine the ideal value of k based on average Euclidean\n",
    "# distance from cluster center"
   ]
  }
 ],
 "metadata": {
  "kernelspec": {
   "display_name": "Python 3",
   "language": "python",
   "name": "python3"
  },
  "language_info": {
   "codemirror_mode": {
    "name": "ipython",
    "version": 3
   },
   "file_extension": ".py",
   "mimetype": "text/x-python",
   "name": "python",
   "nbconvert_exporter": "python",
   "pygments_lexer": "ipython3",
   "version": "3.11.0"
  }
 },
 "nbformat": 4,
 "nbformat_minor": 2
}
