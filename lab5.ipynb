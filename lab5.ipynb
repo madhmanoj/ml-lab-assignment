{
 "cells": [
  {
   "cell_type": "code",
   "execution_count": 2,
   "id": "b298420b",
   "metadata": {
    "ExecuteTime": {
     "end_time": "2023-09-29T21:37:22.549415300Z",
     "start_time": "2023-09-29T21:37:21.982236200Z"
    }
   },
   "outputs": [],
   "source": [
    "import pandas as pd\n",
    "import numpy as np"
   ]
  },
  {
   "cell_type": "code",
   "execution_count": 3,
   "id": "55d01176",
   "metadata": {
    "ExecuteTime": {
     "end_time": "2023-09-29T21:37:25.119383600Z",
     "start_time": "2023-09-29T21:37:25.104388100Z"
    }
   },
   "outputs": [],
   "source": [
    "# A1 & A2\n",
    "\n",
    "# formula to update weight\n",
    "def weight_update(q, w, x = 1):\n",
    "    return w + q * x\n",
    "\n",
    "# calculate new weight function, if x argument is not given it calculate\n",
    "# new bias\n",
    "def calculate_new_weight(t, y, w, alpha, x=None):\n",
    "    # intermediate value that does not change inbetween samples or \n",
    "    # iterations\n",
    "    q = alpha * (t - y)\n",
    "    temp = []\n",
    "    # if condition for update of bias\n",
    "    if x == None:\n",
    "        return w + q\n",
    "    \n",
    "    # new weight updation and storing in temp\n",
    "    for i in range(len(w)):\n",
    "        temp.append(weight_update(q, w[i], x[i]))\n",
    "        \n",
    "    return temp\n",
    "        \n",
    "# calculate y_in value \n",
    "def y_input(x, w, b):\n",
    "    sum = 0\n",
    "    # summation of xi and wi plus addition of bias to find y_in\n",
    "    for i in range(len(x)):\n",
    "        sum = sum + x[i] * w[i]\n",
    "    return sum + b\n",
    "\n",
    "# activation function list(defined one after the other)\n",
    "def step_function(y_in):\n",
    "    if y_in >= 0:\n",
    "        return 1\n",
    "    else:\n",
    "        return 0\n",
    "\n",
    "def bi_polar_step_function(y_in):\n",
    "    if y_in > 0:\n",
    "        return 1\n",
    "    elif y_in == 0:\n",
    "        return 0\n",
    "    else:\n",
    "        return -1\n",
    "    \n",
    "def sigmoid_function(y_in):\n",
    "    return 1/(1 + np.exp(-y_in))\n",
    "\n",
    "def relu_function(y_in):\n",
    "    if y_in > 0:\n",
    "        return y_in\n",
    "    else:\n",
    "        return 0\n",
    "\n",
    "# call activation function\n",
    "def activation_function(y_in, acti_func):\n",
    "    if acti_func == 'step':\n",
    "        return step_function(y_in)\n",
    "    elif acti_func == 'bpstep':\n",
    "        return bi_polar_step_function(y_in)\n",
    "    elif acti_func == 'sigmoid':\n",
    "        return sigmoid_function(y_in)\n",
    "    elif acti_func == 'relu':\n",
    "        return relu_function(y_in)\n",
    "    else:\n",
    "        pass\n",
    "    \n",
    "# function to find sum square error to check error between epochs\n",
    "def sum_square_error(y, y_bar):\n",
    "    sum = 0\n",
    "    for i in range(len(y_bar)):\n",
    "        sum = sum + (y[i] - y_bar[i])**2\n",
    "    return sum / len(y)\n",
    "\n",
    "# main perceptron function\n",
    "def perceptron(x, z, w, b, alpha, acti_func, error=0.002):\n",
    "    \n",
    "    data = {}\n",
    "    error_list = []\n",
    "    \n",
    "    k = 0\n",
    "    err = 1\n",
    "    \n",
    "    while err > error and k <= 1000:\n",
    "        y_pred = []\n",
    "        \n",
    "        for i in range(len(x)):\n",
    "            y_in = y_input(x[i], w, b) # calculate y_in\n",
    "            y = activation_function(y_in, acti_func) # modify activation whenever necessary\n",
    "            y_pred.append(y) # put y values in list for sum square error\n",
    "            \n",
    "            # when the predicted output value is not same as output value\n",
    "            if y != z[i]:\n",
    "                w = calculate_new_weight(z[i], y, w, alpha, x[i])\n",
    "                b = calculate_new_weight(z[i], y, b, alpha)\n",
    "                \n",
    "        err = sum_square_error(z, y_pred) \n",
    "        error_list.append(err)\n",
    "        k = k + 1 # to count iterations or epochs\n",
    "        \n",
    "    data['epoch'] = k\n",
    "    data['weights'] = w\n",
    "    data['bias'] = b\n",
    "    data['error_values'] = error_list\n",
    "    return data"
   ]
  },
  {
   "cell_type": "code",
   "execution_count": 4,
   "id": "791ab778",
   "metadata": {
    "ExecuteTime": {
     "end_time": "2023-09-29T21:37:28.031426Z",
     "start_time": "2023-09-29T21:37:28.010964400Z"
    },
    "scrolled": false
   },
   "outputs": [
    {
     "name": "stdout",
     "output_type": "stream",
     "text": [
      "Number of epochs:  130\n",
      "Final weights:  [0.1000000000000001, 0.05000000000000032]\n"
     ]
    }
   ],
   "source": [
    "# AND gate values are represented by x and z\n",
    "x = [[0, 0], [0, 1], [1, 0], [1, 1]]\n",
    "z = [0, 0, 0, 1]\n",
    "w = [0.2, -0.75]\n",
    "b = 10\n",
    "a = 0.05\n",
    "\n",
    "data = perceptron(x, z, w, b, a, acti_func='step')\n",
    "print(\"Number of epochs: \", data['epoch'])\n",
    "print(\"Final weights: \", data['weights'])"
   ]
  },
  {
   "cell_type": "code",
   "execution_count": 5,
   "id": "647349c1",
   "metadata": {
    "ExecuteTime": {
     "end_time": "2023-09-29T21:37:30.079550300Z",
     "start_time": "2023-09-29T21:37:29.469121400Z"
    }
   },
   "outputs": [
    {
     "data": {
      "text/plain": [
       "[<matplotlib.lines.Line2D at 0x7f90d9fe3f70>]"
      ]
     },
     "execution_count": 5,
     "metadata": {},
     "output_type": "execute_result"
    },
    {
     "data": {
      "image/png": "[encoded data removed]",
      "text/plain": [
       "<Figure size 640x480 with 1 Axes>"
      ]
     },
     "metadata": {},
     "output_type": "display_data"
    }
   ],
   "source": [
    "# plot of epochs against their respective error values\n",
    "import matplotlib.pyplot as plt\n",
    "\n",
    "plt.plot([i for i in range(1, data['epoch'] + 1)], data['error_values'])"
   ]
  },
  {
   "cell_type": "code",
   "execution_count": 6,
   "id": "67d94211",
   "metadata": {
    "ExecuteTime": {
     "end_time": "2023-09-29T21:37:31.870916400Z",
     "start_time": "2023-09-29T21:37:31.727023900Z"
    }
   },
   "outputs": [
    {
     "data": {
      "text/plain": [
       "<BarContainer object of 4 artists>"
      ]
     },
     "execution_count": 6,
     "metadata": {},
     "output_type": "execute_result"
    },
    {
     "data": {
      "image/png": "[encoded data removed]",
      "text/plain": [
       "<Figure size 640x480 with 1 Axes>"
      ]
     },
     "metadata": {},
     "output_type": "display_data"
    }
   ],
   "source": [
    "epoch_list = []\n",
    "\n",
    "lst = ['step', 'bpstep', 'sigmoid', 'relu']\n",
    "\n",
    "for i in lst:\n",
    "    data = perceptron(x, z, w, b, a, acti_func=i)\n",
    "    epoch_list.append(data['epoch'])\n",
    "\n",
    "plt.bar(lst, epoch_list)"
   ]
  },
  {
   "cell_type": "code",
   "execution_count": 7,
   "id": "84deeb83",
   "metadata": {
    "ExecuteTime": {
     "end_time": "2023-09-29T21:37:33.580813900Z",
     "start_time": "2023-09-29T21:37:33.451712600Z"
    }
   },
   "outputs": [
    {
     "data": {
      "text/plain": [
       "[<matplotlib.lines.Line2D at 0x7f90d7d36e00>]"
      ]
     },
     "execution_count": 7,
     "metadata": {},
     "output_type": "execute_result"
    },
    {
     "data": {
      "image/png": "[encoded data removed]",
      "text/plain": [
       "<Figure size 640x480 with 1 Axes>"
      ]
     },
     "metadata": {},
     "output_type": "display_data"
    }
   ],
   "source": [
    "# A3\n",
    "# number of iterations taken for learning to converge against the \n",
    "# learning rates\n",
    "\n",
    "rates = [0.1, 0.2, 0.3, 0.4, 0.5, 0.6, 0.7, 0.8, 0.9, 1.0]\n",
    "\n",
    "x = [[0, 0], [0, 1], [1, 0], [1, 1]]\n",
    "z = [0, 0, 0, 1]\n",
    "w = [0.2, -0.75]\n",
    "b = 10\n",
    "\n",
    "iters = []\n",
    "\n",
    "for i in rates:\n",
    "    data = perceptron(x, z, w, b, i, acti_func='step')\n",
    "    iters.append(data['epoch'])\n",
    "\n",
    "plt.plot(rates, iters)"
   ]
  },
  {
   "cell_type": "code",
   "execution_count": 8,
   "id": "aab405ba",
   "metadata": {
    "ExecuteTime": {
     "end_time": "2023-09-29T21:37:34.972894600Z",
     "start_time": "2023-09-29T21:37:34.950952100Z"
    }
   },
   "outputs": [
    {
     "name": "stdout",
     "output_type": "stream",
     "text": [
      "Number of epochs:  1001\n",
      "Final weights:  [-0.09999999999999969, -0.09999999999999969]\n"
     ]
    }
   ],
   "source": [
    "# A4\n",
    "# Proceed with A1 to A3 for XOR gate\n",
    "\n",
    "x = [[0, 0], [0, 1], [1, 0], [1, 1]]\n",
    "z = [0, 1, 1, 0]\n",
    "w = [0.2, -0.75]\n",
    "b = 10\n",
    "a = 0.05\n",
    "\n",
    "data = perceptron(x, z, w, b, a, acti_func='step')\n",
    "print(\"Number of epochs: \", data['epoch'])\n",
    "print(\"Final weights: \", data['weights'])"
   ]
  },
  {
   "cell_type": "code",
   "execution_count": 9,
   "id": "ed0e11f8",
   "metadata": {
    "ExecuteTime": {
     "end_time": "2023-09-29T21:37:36.738415300Z",
     "start_time": "2023-09-29T21:37:36.547845700Z"
    }
   },
   "outputs": [
    {
     "data": {
      "text/plain": [
       "[<matplotlib.lines.Line2D at 0x7f90d7bb1600>]"
      ]
     },
     "execution_count": 9,
     "metadata": {},
     "output_type": "execute_result"
    },
    {
     "data": {
      "image/png": "[encoded data removed]",
      "text/plain": [
       "<Figure size 1000x1000 with 1 Axes>"
      ]
     },
     "metadata": {},
     "output_type": "display_data"
    }
   ],
   "source": [
    "# plot of epochs against their respective error values\n",
    "import matplotlib.pyplot as plt\n",
    "plt.figure(figsize=(10, 10))\n",
    "plt.plot([i for i in range(1, data['epoch'] + 1)], data['error_values'])"
   ]
  },
  {
   "cell_type": "code",
   "execution_count": 10,
   "id": "127147f5",
   "metadata": {
    "ExecuteTime": {
     "end_time": "2023-09-29T21:37:38.341946Z",
     "start_time": "2023-09-29T21:37:38.181780Z"
    }
   },
   "outputs": [
    {
     "data": {
      "text/plain": [
       "<BarContainer object of 4 artists>"
      ]
     },
     "execution_count": 10,
     "metadata": {},
     "output_type": "execute_result"
    },
    {
     "data": {
      "image/png": "[encoded data removed]",
      "text/plain": [
       "<Figure size 640x480 with 1 Axes>"
      ]
     },
     "metadata": {},
     "output_type": "display_data"
    }
   ],
   "source": [
    "epoch_list = []\n",
    "\n",
    "lst = ['step', 'bpstep', 'sigmoid', 'relu']\n",
    "\n",
    "for i in lst:\n",
    "    data = perceptron(x, z, w, b, a, acti_func=i)\n",
    "    epoch_list.append(data['epoch'])\n",
    "\n",
    "plt.bar(lst, epoch_list)"
   ]
  },
  {
   "cell_type": "code",
   "execution_count": 11,
   "id": "44fc4f78",
   "metadata": {
    "ExecuteTime": {
     "end_time": "2023-09-29T21:37:39.869851500Z",
     "start_time": "2023-09-29T21:37:39.666003200Z"
    }
   },
   "outputs": [
    {
     "data": {
      "text/plain": [
       "[<matplotlib.lines.Line2D at 0x7f90d7c66f80>]"
      ]
     },
     "execution_count": 11,
     "metadata": {},
     "output_type": "execute_result"
    },
    {
     "data": {
      "image/png": "[encoded data removed]",
      "text/plain": [
       "<Figure size 640x480 with 1 Axes>"
      ]
     },
     "metadata": {},
     "output_type": "display_data"
    }
   ],
   "source": [
    "# number of iterations taken for learning to converge against the \n",
    "# learning rates\n",
    "\n",
    "rates = [0.1, 0.2, 0.3, 0.4, 0.5, 0.6, 0.7, 0.8, 0.9, 1.0]\n",
    "\n",
    "x = [[0, 0], [0, 1], [1, 0], [1, 1]]\n",
    "z = [0, 1, 1, 0]\n",
    "w = [0.2, -0.75]\n",
    "b = 10\n",
    "\n",
    "iters = []\n",
    "\n",
    "for i in rates:\n",
    "    data = perceptron(x, z, w, b, i, acti_func='step')\n",
    "    iters.append(data['epoch'])\n",
    "\n",
    "plt.plot(rates, iters)"
   ]
  },
  {
   "cell_type": "code",
   "execution_count": 12,
   "id": "ea47e743",
   "metadata": {
    "ExecuteTime": {
     "end_time": "2023-09-29T21:39:25.302196700Z",
     "start_time": "2023-09-29T21:39:25.263274300Z"
    }
   },
   "outputs": [],
   "source": [
    "# A5\n",
    "# build perceptron to find weights which can be used to classify the \n",
    "# transaction as high or lwo value\n",
    "\n",
    "# create required dataframe\n",
    "df = pd.read_excel(\"mlab.xlsx\")\n",
    "df = df.iloc[:, :5] # removing unecessary columns\n",
    "df['High Value Tx?'] = ['Yes'] * 3 + ['No', 'Yes'] * 2 + ['Yes'] + ['No'] *2"
   ]
  },
  {
   "cell_type": "code",
   "execution_count": 13,
   "id": "983740c2",
   "metadata": {
    "ExecuteTime": {
     "end_time": "2023-09-29T21:39:27.433145200Z",
     "start_time": "2023-09-29T21:39:26.592893900Z"
    }
   },
   "outputs": [
    {
     "name": "stdout",
     "output_type": "stream",
     "text": [
      "Weights are:  [48036297.79970574, 9157651.349915108, 6989483.449969002]\n"
     ]
    }
   ],
   "source": [
    "# modify perceptron so it can accept x as a dataframe value\n",
    "def mod_perceptron(x, z, w, b, alpha, acti_func, error=0.002):\n",
    "    \n",
    "    data = {}\n",
    "    error_list = []\n",
    "    \n",
    "    k = 0\n",
    "    err = 1\n",
    "    \n",
    "    while err > error and k <= 1000:\n",
    "        y_pred = []\n",
    "        \n",
    "        for i in range(x.shape[0]):\n",
    "            y_in = y_input(x.iloc[i].tolist(), w, b) # calculate y_in\n",
    "            y = activation_function(y_in, acti_func) # modify activation whenever necessary\n",
    "            y_pred.append(y) # put y values in list for sum square error\n",
    "\n",
    "            # when the predicted output value is not same as output value\n",
    "            if y != z[i]:\n",
    "                w = calculate_new_weight(z[i], y, w, alpha, x.iloc[i].tolist())\n",
    "                b = calculate_new_weight(z[i], y, b, alpha)\n",
    "        \n",
    "        err = sum_square_error(z, y_pred) \n",
    "        error_list.append(err) # to count iterations or epochs\n",
    "        k = k + 1\n",
    "        \n",
    "    data['epoch'] = k\n",
    "    data['weights'] = w\n",
    "    data['bias'] = b\n",
    "    data['error_values'] = error_list\n",
    "    return data\n",
    "\n",
    "x = df.iloc[:, 1:4]\n",
    "z = df['Payment (Rs)'].tolist()\n",
    "w = [0.000002, 0.000003, -0.000001]\n",
    "b = 0.000006\n",
    "a = 0.95\n",
    "\n",
    "data = mod_perceptron(x, z, w, b, a, acti_func = 'sigmoid')\n",
    "print(\"Weights are: \", data['weights'])"
   ]
  },
  {
   "cell_type": "code",
   "execution_count": 14,
   "id": "73832bcc",
   "metadata": {
    "ExecuteTime": {
     "end_time": "2023-09-29T21:39:29.177941900Z",
     "start_time": "2023-09-29T21:39:29.157011800Z"
    }
   },
   "outputs": [],
   "source": [
    "# A6\n",
    "# Comparing the results obtained from perceptron and matrix pseudo-inverse\n",
    "matrix_A = df.iloc[:, 1:4].to_numpy()\n",
    "matrix_b = df['Payment (Rs)'].to_numpy()\n",
    "\n",
    "pinv_A = np.linalg.pinv(matrix_A)\n",
    "result = pinv_A @ matrix_b"
   ]
  },
  {
   "cell_type": "code",
   "execution_count": 15,
   "id": "6eaa0afe",
   "metadata": {
    "ExecuteTime": {
     "end_time": "2023-09-29T21:39:30.568683300Z",
     "start_time": "2023-09-29T21:39:30.545746300Z"
    }
   },
   "outputs": [
    {
     "name": "stdout",
     "output_type": "stream",
     "text": [
      "Weights from perceptron are:  [48036297.79970574, 9157651.349915108, 6989483.449969002]\n",
      "Weights from Ax=b are:  [ 1. 55. 18.]\n"
     ]
    }
   ],
   "source": [
    "print(\"Weights from perceptron are: \", data['weights'])\n",
    "print(\"Weights from Ax=b are: \", result)"
   ]
  },
  {
   "cell_type": "code",
   "execution_count": 16,
   "id": "1ab40d2d",
   "metadata": {},
   "outputs": [],
   "source": [
    "# A7\n",
    "# Develop given neural network with learning rate = 0.05 for AND gate\n",
    "\n",
    "# Define the sigmoid activation function\n",
    "def sigmoid(x):\n",
    "    return 1 / (1 + np.exp(-x))\n",
    "\n",
    "# Define the derivative of the sigmoid function\n",
    "def sigmoid_derivative(x):\n",
    "    return x * (1 - x)\n",
    "\n",
    "# Define a neural network for one hidden layer and one output neuron\n",
    "def neural_network(X, y, hidden_weights, output_weights, hidden_bias, output_bias):\n",
    "    # Training loop with convergence check\n",
    "    epochs = 1000\n",
    "    convergence_error = 0.002\n",
    "\n",
    "    data = {}\n",
    "\n",
    "    for epoch in range(epochs):\n",
    "        # Forward propagation\n",
    "        hidden_layer_input = np.dot(X, hidden_weights) + hidden_bias\n",
    "        hidden_layer_output = sigmoid(hidden_layer_input)\n",
    "        output_layer_input = np.dot(hidden_layer_output, output_weights) + output_bias\n",
    "        output_layer_output = sigmoid(output_layer_input)\n",
    "\n",
    "        # Calculate the loss\n",
    "        error = y - output_layer_output\n",
    "        loss = 0.5 * np.mean(error ** 2)\n",
    "\n",
    "        # Backpropagation\n",
    "        output_delta = error * sigmoid_derivative(output_layer_output)\n",
    "        hidden_layer_error = output_delta.dot(output_weights.T)\n",
    "        hidden_layer_delta = hidden_layer_error * sigmoid_derivative(hidden_layer_output)\n",
    "\n",
    "        # Update weights and biases\n",
    "        output_weights += alpha * hidden_layer_output.T.dot(output_delta)\n",
    "        output_bias += alpha * np.sum(output_delta, axis=0, keepdims=True)\n",
    "        hidden_weights += alpha * X.T.dot(hidden_layer_delta)\n",
    "        hidden_bias += alpha * np.sum(hidden_layer_delta, axis=0, keepdims=True)\n",
    "\n",
    "        if loss <= convergence_error:\n",
    "            print(f\"Converged after {epoch + 1} epochs with loss: {loss}\")\n",
    "            break\n",
    "        \n",
    "        if epoch % 100 == 0:\n",
    "            print(f\"Epoch {epoch}, Loss: {loss}\")\n",
    "\n",
    "    data['epoch'] = epoch + 1\n",
    "    data['hiddenweight'] = hidden_weights\n",
    "    data['outputweight'] = output_weights\n",
    "    data['outputbias'] = output_bias\n",
    "    data['hiddenbias'] = hidden_bias   \n",
    "    return data"
   ]
  },
  {
   "cell_type": "code",
   "execution_count": 17,
   "id": "30e2cb78",
   "metadata": {
    "ExecuteTime": {
     "end_time": "2023-09-29T21:39:31.722912900Z",
     "start_time": "2023-09-29T21:39:31.667546800Z"
    }
   },
   "outputs": [
    {
     "name": "stdout",
     "output_type": "stream",
     "text": [
      "Epoch 0, Loss: 0.18687583567204538\n",
      "Epoch 100, Loss: 0.09431604797387136\n",
      "Epoch 200, Loss: 0.09078526939355677\n",
      "Epoch 300, Loss: 0.08846518069594128\n",
      "Epoch 400, Loss: 0.08580033476996012\n",
      "Epoch 500, Loss: 0.0827056032439048\n",
      "Epoch 600, Loss: 0.07921692092543962\n",
      "Epoch 700, Loss: 0.07541120876153272\n",
      "Epoch 800, Loss: 0.07137037426727219\n",
      "Epoch 900, Loss: 0.06716148262249708\n"
     ]
    },
    {
     "data": {
      "text/plain": [
       "{'epoch': 1000,\n",
       " 'hiddenweight': array([[-1.52575591,  0.62715792],\n",
       "        [-0.95806728,  1.07991881]]),\n",
       " 'outputweight': array([[-1.99565307],\n",
       "        [ 0.97854723]]),\n",
       " 'outputbias': array([[-0.67513521]]),\n",
       " 'hiddenbias': array([[ 1.07579669, -0.07428771]])}"
      ]
     },
     "execution_count": 17,
     "metadata": {},
     "output_type": "execute_result"
    }
   ],
   "source": [
    "# Initialize weights and biases\n",
    "# For one output_neurons\n",
    "input_neurons = 2\n",
    "hidden_neurons = 2\n",
    "output_neurons = 1\n",
    "\n",
    "# Initialize weights with random values between -1 and 1\n",
    "hidden_weights = 2 * np.random.rand(input_neurons, hidden_neurons) - 1\n",
    "output_weights = 2 * np.random.rand(hidden_neurons, output_neurons) - 1\n",
    "\n",
    "# Initialize biases with random values\n",
    "hidden_bias = np.random.rand(1, hidden_neurons)\n",
    "output_bias = np.random.rand(1, output_neurons)\n",
    "\n",
    "# Learning rate\n",
    "alpha = 0.05\n",
    "\n",
    "# Training data for AND gate\n",
    "X = np.array([[0, 0], [0, 1], [1, 0], [1, 1]])\n",
    "y = np.array([[0], [0], [0], [1]])\n",
    "neural_network(X, y, hidden_weights, output_weights, hidden_bias, output_bias)"
   ]
  },
  {
   "cell_type": "code",
   "execution_count": 18,
   "id": "c7c11f7b5a09c273",
   "metadata": {
    "ExecuteTime": {
     "end_time": "2023-09-29T22:08:10.545757500Z",
     "start_time": "2023-09-29T22:08:10.063656600Z"
    },
    "collapsed": false
   },
   "outputs": [
    {
     "name": "stdout",
     "output_type": "stream",
     "text": [
      "Epoch 0, Loss: 0.12657617919653666\n",
      "Epoch 100, Loss: 0.12525264607507108\n",
      "Epoch 200, Loss: 0.12519812411992742\n",
      "Epoch 300, Loss: 0.1251648191655789\n",
      "Epoch 400, Loss: 0.12513191808360097\n",
      "Epoch 500, Loss: 0.12509884104170568\n",
      "Epoch 600, Loss: 0.12506537136041573\n",
      "Epoch 700, Loss: 0.12503132513932533\n",
      "Epoch 800, Loss: 0.12499653771633462\n",
      "Epoch 900, Loss: 0.12496085576246432\n"
     ]
    },
    {
     "data": {
      "text/plain": [
       "{'epoch': 1000,\n",
       " 'hiddenweight': array([[-0.34413706, -0.78317006],\n",
       "        [ 0.48551822,  0.33915435]]),\n",
       " 'outputweight': array([[ 0.06036963],\n",
       "        [-0.80192872]]),\n",
       " 'outputbias': array([[0.43283855]]),\n",
       " 'hiddenbias': array([[0.19583078, 0.5853493 ]])}"
      ]
     },
     "execution_count": 18,
     "metadata": {},
     "output_type": "execute_result"
    }
   ],
   "source": [
    "# A8\n",
    "# Previously defined neural network is used to experiment for XOR gate\n",
    "\n",
    "# Initialize weights and biases\n",
    "input_neurons = 2\n",
    "hidden_neurons = 2\n",
    "output_neurons = 1\n",
    "\n",
    "# Initialize weights with random values between -1 and 1\n",
    "hidden_weights = 2 * np.random.rand(input_neurons, hidden_neurons) - 1\n",
    "output_weights = 2 * np.random.rand(hidden_neurons, output_neurons) - 1\n",
    "\n",
    "# Initialize biases with random values\n",
    "hidden_bias = np.random.rand(1, hidden_neurons)\n",
    "output_bias = np.random.rand(1, output_neurons)\n",
    "\n",
    "# Learning rate\n",
    "alpha = 0.05\n",
    "\n",
    "# Training data for XOR gate\n",
    "X = np.array([[0, 0], [0, 1], [1, 0], [1, 1]])\n",
    "y = np.array([[0], [1], [1], [0]])\n",
    "neural_network(X, y, hidden_weights, output_weights, hidden_bias, output_bias)"
   ]
  },
  {
   "cell_type": "code",
   "execution_count": 19,
   "id": "b0396d78ca4a4144",
   "metadata": {
    "collapsed": false
   },
   "outputs": [],
   "source": [
    "# A9 \n",
    "# Develop a neural network with two output nodes as given\n",
    "\n",
    "def modified_neural_network(X, y, hidden_weights, output_weights, hidden_bias, output_bias):\n",
    "    # Training loop with convergence check\n",
    "    epochs = 1000\n",
    "    convergence_error = np.array([0.002, 0.002])\n",
    "\n",
    "    data = {}\n",
    "\n",
    "    for epoch in range(epochs):\n",
    "        # Forward propagation\n",
    "        hidden_layer_input = np.dot(X, hidden_weights) + hidden_bias\n",
    "        hidden_layer_output = sigmoid(hidden_layer_input)\n",
    "        output_layer_input = np.dot(hidden_layer_output, output_weights) + output_bias\n",
    "        output_layer_output = sigmoid(output_layer_input)\n",
    "\n",
    "        # Calculate the loss\n",
    "        error = y - output_layer_output\n",
    "        loss = 0.5 * np.mean(error ** 2, axis = 0)\n",
    "\n",
    "        # Backpropagation\n",
    "        output_delta = error * sigmoid_derivative(output_layer_output)\n",
    "        hidden_layer_error = output_delta.dot(output_weights.T)\n",
    "        hidden_layer_delta = hidden_layer_error * sigmoid_derivative(hidden_layer_output)\n",
    "\n",
    "        # Update weights and biases\n",
    "        output_weights += alpha * hidden_layer_output.T.dot(output_delta)\n",
    "        output_bias += alpha * np.sum(output_delta, axis=0, keepdims=True)\n",
    "        hidden_weights += alpha * X.T.dot(hidden_layer_delta)\n",
    "        hidden_bias += alpha * np.sum(hidden_layer_delta, axis=0, keepdims=True)\n",
    "\n",
    "        if (loss <= convergence_error).any():\n",
    "            print(f\"Converged after {epoch + 1} epochs with loss: {loss}\")\n",
    "            break\n",
    "        \n",
    "        if epoch % 100 == 0:\n",
    "            print(f\"Epoch {epoch}, Loss: {loss}\")\n",
    "\n",
    "    data['epoch'] = epoch + 1\n",
    "    data['hiddenweight'] = hidden_weights\n",
    "    data['outputweight'] = output_weights\n",
    "    data['outputbias'] = output_bias\n",
    "    data['hiddenbias'] = hidden_bias   \n",
    "    return data\n",
    "    "
   ]
  },
  {
   "cell_type": "code",
   "execution_count": 20,
   "id": "98ab0443",
   "metadata": {},
   "outputs": [
    {
     "name": "stdout",
     "output_type": "stream",
     "text": [
      "Epoch 0, Loss: [0.12029616 0.19968087]\n",
      "Epoch 100, Loss: [0.08948125 0.09460722]\n",
      "Epoch 200, Loss: [0.08700573 0.09031966]\n",
      "Epoch 300, Loss: [0.0850108  0.08849248]\n",
      "Epoch 400, Loss: [0.08270715 0.08642261]\n",
      "Epoch 500, Loss: [0.0799986  0.08388222]\n",
      "Epoch 600, Loss: [0.07680838 0.08078612]\n",
      "Epoch 700, Loss: [0.07306858 0.07707551]\n",
      "Epoch 800, Loss: [0.06874497 0.07273053]\n",
      "Epoch 900, Loss: [0.063858   0.06778513]\n"
     ]
    },
    {
     "data": {
      "text/plain": [
       "{'epoch': 1000,\n",
       " 'hiddenweight': array([[-1.32848002,  0.37532004],\n",
       "        [-1.74090034,  0.79987689]]),\n",
       " 'outputweight': array([[ 2.36998275, -1.91366843],\n",
       "        [-0.58053533,  0.93930979]]),\n",
       " 'outputbias': array([[ 0.27701495, -0.72388203]]),\n",
       " 'hiddenbias': array([[1.4032438 , 0.19917326]])}"
      ]
     },
     "execution_count": 20,
     "metadata": {},
     "output_type": "execute_result"
    }
   ],
   "source": [
    "# Map the output values for multiple output to one output\n",
    "# y = 0 ==> [o1 o2] = [1 0] ; y = 1 ==> [o1 o2] = [0 1] \n",
    "# For AND gate\n",
    "\n",
    "# Initialize weights and biases\n",
    "input_neurons = 2\n",
    "hidden_neurons = 2\n",
    "output_neurons = 2\n",
    "\n",
    "# Initialize weights with random values between -1 and 1\n",
    "hidden_weights = 2 * np.random.rand(input_neurons, hidden_neurons) - 1\n",
    "output_weights = 2 * np.random.rand(hidden_neurons, output_neurons) - 1\n",
    "\n",
    "# Initialize biases with random values\n",
    "hidden_bias = np.random.rand(1, hidden_neurons)\n",
    "output_bias = np.random.rand(1, output_neurons)\n",
    "\n",
    "# Learning rate\n",
    "alpha = 0.05\n",
    "\n",
    "X = np.array([[0, 0], [0, 1], [1, 0], [1, 1]])\n",
    "y = np.array([[1, 0], [1, 0], [1, 0], [0, 1]])\n",
    "modified_neural_network(X, y, hidden_weights, output_weights, hidden_bias, output_bias)"
   ]
  },
  {
   "cell_type": "code",
   "execution_count": 21,
   "id": "31ece954",
   "metadata": {},
   "outputs": [
    {
     "name": "stdout",
     "output_type": "stream",
     "text": [
      "Epoch 0, Loss: [0.13650718 0.13551195]\n",
      "Epoch 100, Loss: [0.12678873 0.12544819]\n",
      "Epoch 200, Loss: [0.12634545 0.12523053]\n",
      "Epoch 300, Loss: [0.12609243 0.12517518]\n",
      "Epoch 400, Loss: [0.12588991 0.1251335 ]\n",
      "Epoch 500, Loss: [0.12572486 0.12510117]\n",
      "Epoch 600, Loss: [0.12558913 0.12507579]\n",
      "Epoch 700, Loss: [0.12547645 0.12505556]\n",
      "Epoch 800, Loss: [0.12538188 0.12503913]\n",
      "Epoch 900, Loss: [0.1253015  0.12502549]\n"
     ]
    },
    {
     "data": {
      "text/plain": [
       "{'epoch': 1000,\n",
       " 'hiddenweight': array([[ 0.49281252,  0.34883082],\n",
       "        [-0.75188153,  0.01238953]]),\n",
       " 'outputweight': array([[-1.00768837,  0.21377481],\n",
       "        [ 0.62655929,  0.27752443]]),\n",
       " 'outputbias': array([[ 0.16324998, -0.25711709]]),\n",
       " 'hiddenbias': array([[ 0.07437335, -0.01574553]])}"
      ]
     },
     "execution_count": 21,
     "metadata": {},
     "output_type": "execute_result"
    }
   ],
   "source": [
    "# Map the output values for multiple output to one output\n",
    "# y = 0 ==> [o1 o2] = [1 0] ; y = 1 ==> [o1 o2] = [0 1] \n",
    "# For XOR gate\n",
    "\n",
    "# Initialize weights and biases\n",
    "input_neurons = 2\n",
    "hidden_neurons = 2\n",
    "output_neurons = 2\n",
    "\n",
    "# Initialize weights with random values between -1 and 1\n",
    "hidden_weights = 2 * np.random.rand(input_neurons, hidden_neurons) - 1\n",
    "output_weights = 2 * np.random.rand(hidden_neurons, output_neurons) - 1\n",
    "\n",
    "# Initialize biases with random values\n",
    "hidden_bias = np.random.rand(1, hidden_neurons)\n",
    "output_bias = np.random.rand(1, output_neurons)\n",
    "\n",
    "# Learning rate\n",
    "alpha = 0.05\n",
    "\n",
    "# \n",
    "X = np.array([[0, 0], [0, 1], [1, 0], [1, 1]])\n",
    "y = np.array([[1, 0], [0, 1], [0, 1], [1, 0]])\n",
    "modified_neural_network(X, y, hidden_weights, output_weights, hidden_bias, output_bias)"
   ]
  },
  {
   "cell_type": "code",
   "execution_count": 22,
   "id": "33a24ae8",
   "metadata": {},
   "outputs": [
    {
     "name": "stdout",
     "output_type": "stream",
     "text": [
      "Accuracy Score:  1.0\n",
      "Predict 1, 1:  [1]\n",
      "{'activation': 'relu', 'alpha': 0.0001, 'batch_size': 'auto', 'beta_1': 0.9, 'beta_2': 0.999, 'early_stopping': False, 'epsilon': 1e-08, 'hidden_layer_sizes': (100,), 'learning_rate': 'constant', 'learning_rate_init': 0.001, 'max_fun': 15000, 'max_iter': 1000, 'momentum': 0.9, 'n_iter_no_change': 10, 'nesterovs_momentum': True, 'power_t': 0.5, 'random_state': 1, 'shuffle': True, 'solver': 'adam', 'tol': 0.0001, 'validation_fraction': 0.1, 'verbose': False, 'warm_start': False}\n"
     ]
    }
   ],
   "source": [
    "# A10\n",
    "# MLPClassifier from scikit\n",
    "from sklearn.neural_network import MLPClassifier\n",
    "\n",
    "# AND gate\n",
    "X = np.array([[0, 0], [0, 1], [1, 0], [1, 1]])\n",
    "y = np.array([0, 0, 0, 1])\n",
    "\n",
    "clf_and = MLPClassifier(random_state=1, max_iter=1000)\n",
    "clf_and.fit(X, y)\n",
    "print(\"Accuracy Score: \", clf_and.score(X, y))\n",
    "print(\"Predict 1, 1: \", clf_and.predict(np.array([[1, 1]])))\n",
    "print(clf_and.get_params(deep=True))"
   ]
  },
  {
   "cell_type": "code",
   "execution_count": 23,
   "id": "741644d9",
   "metadata": {},
   "outputs": [
    {
     "name": "stdout",
     "output_type": "stream",
     "text": [
      "Accuracy Score:  1.0\n",
      "Predict 1, 1:  [0]\n",
      "{'activation': 'relu', 'alpha': 0.0001, 'batch_size': 'auto', 'beta_1': 0.9, 'beta_2': 0.999, 'early_stopping': False, 'epsilon': 1e-08, 'hidden_layer_sizes': (100,), 'learning_rate': 'constant', 'learning_rate_init': 0.001, 'max_fun': 15000, 'max_iter': 1000, 'momentum': 0.9, 'n_iter_no_change': 10, 'nesterovs_momentum': True, 'power_t': 0.5, 'random_state': 1, 'shuffle': True, 'solver': 'adam', 'tol': 0.0001, 'validation_fraction': 0.1, 'verbose': False, 'warm_start': False}\n"
     ]
    }
   ],
   "source": [
    "# XOR gate\n",
    "X = np.array([[0, 0], [0, 1], [1, 0], [1, 1]])\n",
    "y = np.array([0, 1, 1, 0])\n",
    "\n",
    "clf_xor = MLPClassifier(random_state=1, max_iter=1000)\n",
    "clf_xor.fit(X, y)\n",
    "print(\"Accuracy Score: \", clf_xor.score(X, y))\n",
    "print(\"Predict 1, 1: \", clf_xor.predict(np.array([[1, 1]])))\n",
    "print(clf_xor.get_params(deep=True))"
   ]
  },
  {
   "cell_type": "code",
   "execution_count": 24,
   "id": "68c31e54",
   "metadata": {},
   "outputs": [
    {
     "name": "stderr",
     "output_type": "stream",
     "text": [
      "/home/madhav/.local/lib/python3.10/site-packages/sklearn/neural_network/_multilayer_perceptron.py:691: ConvergenceWarning: Stochastic Optimizer: Maximum iterations (200) reached and the optimization hasn't converged yet.\n",
      "  warnings.warn(\n"
     ]
    }
   ],
   "source": [
    "# A11\n",
    "# We will perform on the project dataset\n",
    "from sklearn.model_selection import train_test_split\n",
    "\n",
    "df1 = pd.read_csv(\"lab3.csv\")\n",
    "\n",
    "# Creating similar size samples of ham and spam\n",
    "ham = df1[df1['Category'] == 'ham']\n",
    "spam = df1[df1['Category'] == 'spam']\n",
    "ham = ham.sample(spam.shape[0])\n",
    "\n",
    "# Now combine these to form a dataset.\n",
    "dataset = pd.concat([ham, spam], ignore_index=True)\n",
    "\n",
    "x_trn, x_tst, y_trn, y_tst = train_test_split(dataset['Message'], dataset['Category'], test_size=0.3)\n",
    "\n",
    "from sklearn.feature_extraction.text import TfidfVectorizer\n",
    "\n",
    "tfid = TfidfVectorizer()\n",
    "x_trn = tfid.fit_transform(x_trn).toarray()\n",
    "x_tst = tfid.transform(x_tst).toarray()\n",
    "y_trn = tfid.transform(y_trn).toarray()\n",
    "y_tst = tfid.transform(y_tst).toarray()\n",
    "\n",
    "clf_project = MLPClassifier(max_iter=200)\n",
    "clf_project.fit(x_trn, y_trn)\n",
    "y_pred = clf_project.predict(x_tst)"
   ]
  },
  {
   "cell_type": "code",
   "execution_count": 25,
   "id": "6f4b8b8b",
   "metadata": {},
   "outputs": [
    {
     "name": "stdout",
     "output_type": "stream",
     "text": [
      "Accuracy Score: 0.8841870824053452\n"
     ]
    }
   ],
   "source": [
    "# Max Iter was given value 200 since anything more was taking too long to train\n",
    "from sklearn.metrics import accuracy_score\n",
    "\n",
    "print(\"Accuracy Score:\", accuracy_score(y_tst, y_pred))"
   ]
  }
 ],
 "metadata": {
  "kernelspec": {
   "display_name": "Python 3 (ipykernel)",
   "language": "python",
   "name": "python3"
  },
  "language_info": {
   "codemirror_mode": {
    "name": "ipython",
    "version": 3
   },
   "file_extension": ".py",
   "mimetype": "text/x-python",
   "name": "python",
   "nbconvert_exporter": "python",
   "pygments_lexer": "ipython3",
   "version": "3.10.12"
  }
 },
 "nbformat": 4,
 "nbformat_minor": 5
}
