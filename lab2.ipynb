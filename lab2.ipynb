{
  "cells": [
    {
      "cell_type": "code",
      "source": [
        "# A1 Data Exploration\n",
        "import pandas as pd\n",
        "\n",
        "xls = pd.ExcelFile('lab2.xlsx')\n",
        "df1 = pd.read_excel(xls, 'thyroid0387_UCI')\n",
        "df1"
      ],
      "outputs": [
        {
          "output_type": "execute_result",
          "execution_count": 1,
          "data": {
            "text/html": "<div>\n<style scoped>\n    .dataframe tbody tr th:only-of-type {\n        vertical-align: middle;\n    }\n\n    .dataframe tbody tr th {\n        vertical-align: top;\n    }\n\n    .dataframe thead th {\n        text-align: right;\n    }\n</style>\n<table border=\"1\" class=\"dataframe\">\n  <thead>\n    <tr style=\"text-align: right;\">\n      <th></th>\n      <th>Record ID</th>\n      <th>age</th>\n      <th>sex</th>\n      <th>on thyroxine</th>\n      <th>query on thyroxine</th>\n      <th>on antithyroid medication</th>\n      <th>sick</th>\n      <th>pregnant</th>\n      <th>thyroid surgery</th>\n      <th>I131 treatment</th>\n      <th>...</th>\n      <th>TT4 measured</th>\n      <th>TT4</th>\n      <th>T4U measured</th>\n      <th>T4U</th>\n      <th>FTI measured</th>\n      <th>FTI</th>\n      <th>TBG measured</th>\n      <th>TBG</th>\n      <th>referral source</th>\n      <th>Condition</th>\n    </tr>\n  </thead>\n  <tbody>\n    <tr>\n      <th>0</th>\n      <td>840801013</td>\n      <td>29</td>\n      <td>F</td>\n      <td>f</td>\n      <td>f</td>\n      <td>f</td>\n      <td>f</td>\n      <td>f</td>\n      <td>f</td>\n      <td>f</td>\n      <td>...</td>\n      <td>f</td>\n      <td>?</td>\n      <td>f</td>\n      <td>?</td>\n      <td>f</td>\n      <td>?</td>\n      <td>f</td>\n      <td>?</td>\n      <td>other</td>\n      <td>NO CONDITION</td>\n    </tr>\n    <tr>\n      <th>1</th>\n      <td>840801014</td>\n      <td>29</td>\n      <td>F</td>\n      <td>f</td>\n      <td>f</td>\n      <td>f</td>\n      <td>f</td>\n      <td>f</td>\n      <td>f</td>\n      <td>f</td>\n      <td>...</td>\n      <td>t</td>\n      <td>128</td>\n      <td>f</td>\n      <td>?</td>\n      <td>f</td>\n      <td>?</td>\n      <td>f</td>\n      <td>?</td>\n      <td>other</td>\n      <td>NO CONDITION</td>\n    </tr>\n    <tr>\n      <th>2</th>\n      <td>840801042</td>\n      <td>41</td>\n      <td>F</td>\n      <td>f</td>\n      <td>f</td>\n      <td>f</td>\n      <td>f</td>\n      <td>f</td>\n      <td>f</td>\n      <td>f</td>\n      <td>...</td>\n      <td>f</td>\n      <td>?</td>\n      <td>f</td>\n      <td>?</td>\n      <td>f</td>\n      <td>?</td>\n      <td>t</td>\n      <td>11</td>\n      <td>other</td>\n      <td>NO CONDITION</td>\n    </tr>\n    <tr>\n      <th>3</th>\n      <td>840803046</td>\n      <td>36</td>\n      <td>F</td>\n      <td>f</td>\n      <td>f</td>\n      <td>f</td>\n      <td>f</td>\n      <td>f</td>\n      <td>f</td>\n      <td>f</td>\n      <td>...</td>\n      <td>f</td>\n      <td>?</td>\n      <td>f</td>\n      <td>?</td>\n      <td>f</td>\n      <td>?</td>\n      <td>t</td>\n      <td>26</td>\n      <td>other</td>\n      <td>NO CONDITION</td>\n    </tr>\n    <tr>\n      <th>4</th>\n      <td>840803047</td>\n      <td>32</td>\n      <td>F</td>\n      <td>f</td>\n      <td>f</td>\n      <td>f</td>\n      <td>f</td>\n      <td>f</td>\n      <td>f</td>\n      <td>f</td>\n      <td>...</td>\n      <td>f</td>\n      <td>?</td>\n      <td>f</td>\n      <td>?</td>\n      <td>f</td>\n      <td>?</td>\n      <td>t</td>\n      <td>36</td>\n      <td>other</td>\n      <td>S</td>\n    </tr>\n    <tr>\n      <th>...</th>\n      <td>...</td>\n      <td>...</td>\n      <td>...</td>\n      <td>...</td>\n      <td>...</td>\n      <td>...</td>\n      <td>...</td>\n      <td>...</td>\n      <td>...</td>\n      <td>...</td>\n      <td>...</td>\n      <td>...</td>\n      <td>...</td>\n      <td>...</td>\n      <td>...</td>\n      <td>...</td>\n      <td>...</td>\n      <td>...</td>\n      <td>...</td>\n      <td>...</td>\n      <td>...</td>\n    </tr>\n    <tr>\n      <th>995</th>\n      <td>841031002</td>\n      <td>41</td>\n      <td>F</td>\n      <td>f</td>\n      <td>f</td>\n      <td>f</td>\n      <td>f</td>\n      <td>f</td>\n      <td>f</td>\n      <td>f</td>\n      <td>...</td>\n      <td>t</td>\n      <td>148</td>\n      <td>t</td>\n      <td>1.44</td>\n      <td>t</td>\n      <td>103</td>\n      <td>f</td>\n      <td>?</td>\n      <td>STMW</td>\n      <td>NO CONDITION</td>\n    </tr>\n    <tr>\n      <th>996</th>\n      <td>841031010</td>\n      <td>41</td>\n      <td>F</td>\n      <td>f</td>\n      <td>f</td>\n      <td>f</td>\n      <td>f</td>\n      <td>f</td>\n      <td>f</td>\n      <td>f</td>\n      <td>...</td>\n      <td>t</td>\n      <td>9.7</td>\n      <td>t</td>\n      <td>1.46</td>\n      <td>t</td>\n      <td>6.6</td>\n      <td>f</td>\n      <td>?</td>\n      <td>other</td>\n      <td>F</td>\n    </tr>\n    <tr>\n      <th>997</th>\n      <td>841031030</td>\n      <td>20</td>\n      <td>F</td>\n      <td>f</td>\n      <td>f</td>\n      <td>f</td>\n      <td>f</td>\n      <td>t</td>\n      <td>f</td>\n      <td>f</td>\n      <td>...</td>\n      <td>f</td>\n      <td>?</td>\n      <td>f</td>\n      <td>?</td>\n      <td>f</td>\n      <td>?</td>\n      <td>t</td>\n      <td>30</td>\n      <td>other</td>\n      <td>NO CONDITION</td>\n    </tr>\n    <tr>\n      <th>998</th>\n      <td>841031031</td>\n      <td>20</td>\n      <td>F</td>\n      <td>f</td>\n      <td>f</td>\n      <td>f</td>\n      <td>f</td>\n      <td>f</td>\n      <td>f</td>\n      <td>f</td>\n      <td>...</td>\n      <td>t</td>\n      <td>201</td>\n      <td>t</td>\n      <td>0.84</td>\n      <td>t</td>\n      <td>240</td>\n      <td>f</td>\n      <td>?</td>\n      <td>SVI</td>\n      <td>AK</td>\n    </tr>\n    <tr>\n      <th>999</th>\n      <td>841031032</td>\n      <td>73</td>\n      <td>F</td>\n      <td>f</td>\n      <td>f</td>\n      <td>f</td>\n      <td>f</td>\n      <td>f</td>\n      <td>f</td>\n      <td>f</td>\n      <td>...</td>\n      <td>t</td>\n      <td>85</td>\n      <td>t</td>\n      <td>0.9</td>\n      <td>t</td>\n      <td>94</td>\n      <td>f</td>\n      <td>?</td>\n      <td>SVI</td>\n      <td>NO CONDITION</td>\n    </tr>\n  </tbody>\n</table>\n<p>1000 rows × 31 columns</p>\n</div>",
            "text/plain": "     Record ID  age sex on thyroxine query on thyroxine  \\\n0    840801013   29   F            f                  f   \n1    840801014   29   F            f                  f   \n2    840801042   41   F            f                  f   \n3    840803046   36   F            f                  f   \n4    840803047   32   F            f                  f   \n..         ...  ...  ..          ...                ...   \n995  841031002   41   F            f                  f   \n996  841031010   41   F            f                  f   \n997  841031030   20   F            f                  f   \n998  841031031   20   F            f                  f   \n999  841031032   73   F            f                  f   \n\n    on antithyroid medication sick pregnant thyroid surgery I131 treatment  \\\n0                           f    f        f               f              f   \n1                           f    f        f               f              f   \n2                           f    f        f               f              f   \n3                           f    f        f               f              f   \n4                           f    f        f               f              f   \n..                        ...  ...      ...             ...            ...   \n995                         f    f        f               f              f   \n996                         f    f        f               f              f   \n997                         f    f        t               f              f   \n998                         f    f        f               f              f   \n999                         f    f        f               f              f   \n\n     ... TT4 measured  TT4 T4U measured   T4U FTI measured  FTI TBG measured  \\\n0    ...            f    ?            f     ?            f    ?            f   \n1    ...            t  128            f     ?            f    ?            f   \n2    ...            f    ?            f     ?            f    ?            t   \n3    ...            f    ?            f     ?            f    ?            t   \n4    ...            f    ?            f     ?            f    ?            t   \n..   ...          ...  ...          ...   ...          ...  ...          ...   \n995  ...            t  148            t  1.44            t  103            f   \n996  ...            t  9.7            t  1.46            t  6.6            f   \n997  ...            f    ?            f     ?            f    ?            t   \n998  ...            t  201            t  0.84            t  240            f   \n999  ...            t   85            t   0.9            t   94            f   \n\n    TBG referral source     Condition  \n0     ?           other  NO CONDITION  \n1     ?           other  NO CONDITION  \n2    11           other  NO CONDITION  \n3    26           other  NO CONDITION  \n4    36           other             S  \n..   ..             ...           ...  \n995   ?            STMW  NO CONDITION  \n996   ?           other             F  \n997  30           other  NO CONDITION  \n998   ?             SVI            AK  \n999   ?             SVI  NO CONDITION  \n\n[1000 rows x 31 columns]"
          },
          "metadata": {}
        }
      ],
      "execution_count": 1,
      "metadata": {},
      "id": "4e284e33"
    },
    {
      "cell_type": "code",
      "source": [
        "df1.info()"
      ],
      "outputs": [
        {
          "output_type": "stream",
          "name": "stdout",
          "text": "<class 'pandas.core.frame.DataFrame'>\nRangeIndex: 1000 entries, 0 to 999\nData columns (total 31 columns):\n #   Column                     Non-Null Count  Dtype \n---  ------                     --------------  ----- \n 0   Record ID                  1000 non-null   int64 \n 1   age                        1000 non-null   int64 \n 2   sex                        1000 non-null   object\n 3   on thyroxine               1000 non-null   object\n 4   query on thyroxine         1000 non-null   object\n 5   on antithyroid medication  1000 non-null   object\n 6   sick                       1000 non-null   object\n 7   pregnant                   1000 non-null   object\n 8   thyroid surgery            1000 non-null   object\n 9   I131 treatment             1000 non-null   object\n 10  query hypothyroid          1000 non-null   object\n 11  query hyperthyroid         1000 non-null   object\n 12  lithium                    1000 non-null   object\n 13  goitre                     1000 non-null   object\n 14  tumor                      1000 non-null   object\n 15  hypopituitary              1000 non-null   object\n 16  psych                      1000 non-null   object\n 17  TSH measured               1000 non-null   object\n 18  TSH                        1000 non-null   object\n 19  T3 measured                1000 non-null   object\n 20  T3                         1000 non-null   object\n 21  TT4 measured               1000 non-null   object\n 22  TT4                        1000 non-null   object\n 23  T4U measured               1000 non-null   object\n 24  T4U                        1000 non-null   object\n 25  FTI measured               1000 non-null   object\n 26  FTI                        1000 non-null   object\n 27  TBG measured               1000 non-null   object\n 28  TBG                        1000 non-null   object\n 29  referral source            1000 non-null   object\n 30  Condition                  1000 non-null   object\ndtypes: int64(2), object(29)\nmemory usage: 242.3+ KB\n"
        }
      ],
      "execution_count": 2,
      "metadata": {},
      "id": "32a30cc7"
    },
    {
      "cell_type": "code",
      "source": [
        "# presence of missing values\n",
        "(df1 == '?').sum()"
      ],
      "outputs": [
        {
          "output_type": "execute_result",
          "execution_count": 3,
          "data": {
            "text/plain": "Record ID                      0\nage                            0\nsex                           24\non thyroxine                   0\nquery on thyroxine             0\non antithyroid medication      0\nsick                           0\npregnant                       0\nthyroid surgery                0\nI131 treatment                 0\nquery hypothyroid              0\nquery hyperthyroid             0\nlithium                        0\ngoitre                         0\ntumor                          0\nhypopituitary                  0\npsych                          0\nTSH measured                   0\nTSH                          115\nT3 measured                    0\nT3                           202\nTT4 measured                   0\nTT4                           40\nT4U measured                   0\nT4U                           98\nFTI measured                   0\nFTI                           98\nTBG measured                   0\nTBG                          964\nreferral source                0\nCondition                      0\ndtype: int64"
          },
          "metadata": {}
        }
      ],
      "execution_count": 3,
      "metadata": {},
      "id": "fa92abed"
    },
    {
      "cell_type": "code",
      "source": [
        "# cleaning the data by making it float64 from object\n",
        "import numpy as np\n",
        "df1.replace(\"?\", np.nan, inplace = True)"
      ],
      "outputs": [],
      "execution_count": 4,
      "metadata": {},
      "id": "e0c2d9c3"
    },
    {
      "cell_type": "code",
      "source": [
        "# data range, presence of outliers, mean, standard deviation\n",
        "df1.describe()"
      ],
      "outputs": [
        {
          "output_type": "execute_result",
          "execution_count": 5,
          "data": {
            "text/html": "<div>\n<style scoped>\n    .dataframe tbody tr th:only-of-type {\n        vertical-align: middle;\n    }\n\n    .dataframe tbody tr th {\n        vertical-align: top;\n    }\n\n    .dataframe thead th {\n        text-align: right;\n    }\n</style>\n<table border=\"1\" class=\"dataframe\">\n  <thead>\n    <tr style=\"text-align: right;\">\n      <th></th>\n      <th>Record ID</th>\n      <th>age</th>\n      <th>TSH</th>\n      <th>T3</th>\n      <th>TT4</th>\n      <th>T4U</th>\n      <th>FTI</th>\n      <th>TBG</th>\n    </tr>\n  </thead>\n  <tbody>\n    <tr>\n      <th>count</th>\n      <td>1.000000e+03</td>\n      <td>1000.000000</td>\n      <td>885.000000</td>\n      <td>798.000000</td>\n      <td>960.000000</td>\n      <td>902.000000</td>\n      <td>902.000000</td>\n      <td>36.000000</td>\n    </tr>\n    <tr>\n      <th>mean</th>\n      <td>8.409340e+08</td>\n      <td>51.509000</td>\n      <td>6.559638</td>\n      <td>1.822243</td>\n      <td>106.447708</td>\n      <td>0.972040</td>\n      <td>114.600887</td>\n      <td>26.230556</td>\n    </tr>\n    <tr>\n      <th>std</th>\n      <td>7.628734e+04</td>\n      <td>18.776541</td>\n      <td>29.416767</td>\n      <td>0.806387</td>\n      <td>41.702870</td>\n      <td>0.206965</td>\n      <td>61.914009</td>\n      <td>8.074610</td>\n    </tr>\n    <tr>\n      <th>min</th>\n      <td>8.408010e+08</td>\n      <td>1.000000</td>\n      <td>0.050000</td>\n      <td>0.050000</td>\n      <td>3.000000</td>\n      <td>0.200000</td>\n      <td>2.500000</td>\n      <td>9.299999</td>\n    </tr>\n    <tr>\n      <th>25%</th>\n      <td>8.409031e+08</td>\n      <td>35.000000</td>\n      <td>0.200000</td>\n      <td>1.400000</td>\n      <td>84.000000</td>\n      <td>0.860000</td>\n      <td>90.250000</td>\n      <td>21.000000</td>\n    </tr>\n    <tr>\n      <th>50%</th>\n      <td>8.409210e+08</td>\n      <td>55.000000</td>\n      <td>0.800000</td>\n      <td>1.800000</td>\n      <td>103.000000</td>\n      <td>0.960000</td>\n      <td>106.000000</td>\n      <td>25.500000</td>\n    </tr>\n    <tr>\n      <th>75%</th>\n      <td>8.410111e+08</td>\n      <td>67.000000</td>\n      <td>2.000000</td>\n      <td>2.200000</td>\n      <td>124.000000</td>\n      <td>1.060000</td>\n      <td>126.000000</td>\n      <td>30.000000</td>\n    </tr>\n    <tr>\n      <th>max</th>\n      <td>8.410310e+08</td>\n      <td>97.000000</td>\n      <td>430.000000</td>\n      <td>8.599999</td>\n      <td>359.000000</td>\n      <td>1.860000</td>\n      <td>839.000000</td>\n      <td>53.000000</td>\n    </tr>\n  </tbody>\n</table>\n</div>",
            "text/plain": "          Record ID          age         TSH          T3         TT4  \\\ncount  1.000000e+03  1000.000000  885.000000  798.000000  960.000000   \nmean   8.409340e+08    51.509000    6.559638    1.822243  106.447708   \nstd    7.628734e+04    18.776541   29.416767    0.806387   41.702870   \nmin    8.408010e+08     1.000000    0.050000    0.050000    3.000000   \n25%    8.409031e+08    35.000000    0.200000    1.400000   84.000000   \n50%    8.409210e+08    55.000000    0.800000    1.800000  103.000000   \n75%    8.410111e+08    67.000000    2.000000    2.200000  124.000000   \nmax    8.410310e+08    97.000000  430.000000    8.599999  359.000000   \n\n              T4U         FTI        TBG  \ncount  902.000000  902.000000  36.000000  \nmean     0.972040  114.600887  26.230556  \nstd      0.206965   61.914009   8.074610  \nmin      0.200000    2.500000   9.299999  \n25%      0.860000   90.250000  21.000000  \n50%      0.960000  106.000000  25.500000  \n75%      1.060000  126.000000  30.000000  \nmax      1.860000  839.000000  53.000000  "
          },
          "metadata": {}
        }
      ],
      "execution_count": 5,
      "metadata": {
        "scrolled": false
      },
      "id": "02ddbfba"
    },
    {
      "cell_type": "code",
      "source": [
        "# A2 Data Imputation\n",
        "# the attribute 'sex' is categorical data we use mode\n",
        "df1['sex'].mode()"
      ],
      "outputs": [
        {
          "output_type": "execute_result",
          "execution_count": 6,
          "data": {
            "text/plain": "0    F\ndtype: object"
          },
          "metadata": {}
        }
      ],
      "execution_count": 6,
      "metadata": {},
      "id": "8c5a7618"
    },
    {
      "cell_type": "code",
      "source": [
        "df1['sex'].replace(np.nan, \"F\", inplace=True)"
      ],
      "outputs": [],
      "execution_count": 7,
      "metadata": {},
      "id": "d965dce0"
    },
    {
      "cell_type": "code",
      "source": [
        "# 'TSH' is numeric and it has outliers \n",
        "repl1 = df1['TSH'].median()\n",
        "df1['TSH'].replace(np.nan, repl1, inplace=True)"
      ],
      "outputs": [],
      "execution_count": 8,
      "metadata": {},
      "id": "5b84ffe3"
    },
    {
      "cell_type": "code",
      "source": [
        "# 'T3' is numeric and does not have outliers\n",
        "repl2 = df1['T3'].mean()\n",
        "df1['T3'].replace(np.nan, repl2, inplace=True)"
      ],
      "outputs": [],
      "execution_count": 9,
      "metadata": {},
      "id": "9e09ce78"
    },
    {
      "cell_type": "code",
      "source": [
        "# 'TT4' is numeric and has outliers\n",
        "repl3 = df1['TT4'].median()\n",
        "df1['TT4'].replace(np.nan, repl3, inplace=True)"
      ],
      "outputs": [],
      "execution_count": 10,
      "metadata": {},
      "id": "bde5a1be"
    },
    {
      "cell_type": "code",
      "source": [
        "# 'T4U' is numeric and has not outlier\n",
        "repl4 = df1['T4U'].mean()\n",
        "df1['T4U'].replace(np.nan, repl4, inplace=True)"
      ],
      "outputs": [],
      "execution_count": 11,
      "metadata": {},
      "id": "c471a7b2"
    },
    {
      "cell_type": "code",
      "source": [
        "# 'FTI' is numeric and has outliers\n",
        "repl5 = df1['FTI'].median()\n",
        "df1['FTI'].replace(np.nan, repl5, inplace=True)"
      ],
      "outputs": [],
      "execution_count": 12,
      "metadata": {},
      "id": "eff2d6ce"
    },
    {
      "cell_type": "code",
      "source": [
        "# 'TBG' is numeric and has no outliers\n",
        "repl6 = df1['TBG'].mean()\n",
        "df1['TBG'].replace(np.nan, repl6, inplace=True)"
      ],
      "outputs": [],
      "execution_count": 13,
      "metadata": {},
      "id": "5ee98937"
    },
    {
      "cell_type": "code",
      "source": [
        "# A3 Data Normalization\n",
        "# min-max normalization on numeric attributes\n",
        "# apply normalization techniques\n",
        "for column in ['TSH', 'T3', 'TT4', 'T4U', 'FTI', 'TBG']:\n",
        "    df1[column] = (df1[column] - df1[column].min()) / (df1[column].max() - df1[column].min())    \n",
        "  \n",
        "# view normalized data\n",
        "df1.describe()"
      ],
      "outputs": [
        {
          "output_type": "execute_result",
          "execution_count": 14,
          "data": {
            "text/html": "<div>\n<style scoped>\n    .dataframe tbody tr th:only-of-type {\n        vertical-align: middle;\n    }\n\n    .dataframe tbody tr th {\n        vertical-align: top;\n    }\n\n    .dataframe thead th {\n        text-align: right;\n    }\n</style>\n<table border=\"1\" class=\"dataframe\">\n  <thead>\n    <tr style=\"text-align: right;\">\n      <th></th>\n      <th>Record ID</th>\n      <th>age</th>\n      <th>TSH</th>\n      <th>T3</th>\n      <th>TT4</th>\n      <th>T4U</th>\n      <th>FTI</th>\n      <th>TBG</th>\n    </tr>\n  </thead>\n  <tbody>\n    <tr>\n      <th>count</th>\n      <td>1.000000e+03</td>\n      <td>1000.000000</td>\n      <td>1000.000000</td>\n      <td>1000.000000</td>\n      <td>1000.000000</td>\n      <td>1000.000000</td>\n      <td>1000.000000</td>\n      <td>1000.000000</td>\n    </tr>\n    <tr>\n      <th>mean</th>\n      <td>8.409340e+08</td>\n      <td>51.509000</td>\n      <td>0.013600</td>\n      <td>0.207280</td>\n      <td>0.290196</td>\n      <td>0.465084</td>\n      <td>0.133004</td>\n      <td>0.387427</td>\n    </tr>\n    <tr>\n      <th>std</th>\n      <td>7.628734e+04</td>\n      <td>18.776541</td>\n      <td>0.064503</td>\n      <td>0.084241</td>\n      <td>0.114789</td>\n      <td>0.118405</td>\n      <td>0.070358</td>\n      <td>0.034585</td>\n    </tr>\n    <tr>\n      <th>min</th>\n      <td>8.408010e+08</td>\n      <td>1.000000</td>\n      <td>0.000000</td>\n      <td>0.000000</td>\n      <td>0.000000</td>\n      <td>0.000000</td>\n      <td>0.000000</td>\n      <td>0.000000</td>\n    </tr>\n    <tr>\n      <th>25%</th>\n      <td>8.409031e+08</td>\n      <td>35.000000</td>\n      <td>0.000465</td>\n      <td>0.169591</td>\n      <td>0.230337</td>\n      <td>0.403614</td>\n      <td>0.106993</td>\n      <td>0.387427</td>\n    </tr>\n    <tr>\n      <th>50%</th>\n      <td>8.409210e+08</td>\n      <td>55.000000</td>\n      <td>0.001744</td>\n      <td>0.207280</td>\n      <td>0.280899</td>\n      <td>0.465084</td>\n      <td>0.123730</td>\n      <td>0.387427</td>\n    </tr>\n    <tr>\n      <th>75%</th>\n      <td>8.410111e+08</td>\n      <td>67.000000</td>\n      <td>0.003838</td>\n      <td>0.239766</td>\n      <td>0.334270</td>\n      <td>0.512048</td>\n      <td>0.144053</td>\n      <td>0.387427</td>\n    </tr>\n    <tr>\n      <th>max</th>\n      <td>8.410310e+08</td>\n      <td>97.000000</td>\n      <td>1.000000</td>\n      <td>1.000000</td>\n      <td>1.000000</td>\n      <td>1.000000</td>\n      <td>1.000000</td>\n      <td>1.000000</td>\n    </tr>\n  </tbody>\n</table>\n</div>",
            "text/plain": "          Record ID          age          TSH           T3          TT4  \\\ncount  1.000000e+03  1000.000000  1000.000000  1000.000000  1000.000000   \nmean   8.409340e+08    51.509000     0.013600     0.207280     0.290196   \nstd    7.628734e+04    18.776541     0.064503     0.084241     0.114789   \nmin    8.408010e+08     1.000000     0.000000     0.000000     0.000000   \n25%    8.409031e+08    35.000000     0.000465     0.169591     0.230337   \n50%    8.409210e+08    55.000000     0.001744     0.207280     0.280899   \n75%    8.410111e+08    67.000000     0.003838     0.239766     0.334270   \nmax    8.410310e+08    97.000000     1.000000     1.000000     1.000000   \n\n               T4U          FTI          TBG  \ncount  1000.000000  1000.000000  1000.000000  \nmean      0.465084     0.133004     0.387427  \nstd       0.118405     0.070358     0.034585  \nmin       0.000000     0.000000     0.000000  \n25%       0.403614     0.106993     0.387427  \n50%       0.465084     0.123730     0.387427  \n75%       0.512048     0.144053     0.387427  \nmax       1.000000     1.000000     1.000000  "
          },
          "metadata": {}
        }
      ],
      "execution_count": 14,
      "metadata": {},
      "id": "5face190"
    },
    {
      "cell_type": "code",
      "source": [
        "df1.replace(\"f\", False, inplace=True)\n",
        "df1.replace(\"t\", True, inplace=True)"
      ],
      "outputs": [],
      "execution_count": 15,
      "metadata": {},
      "id": "7e33a5df"
    },
    {
      "cell_type": "code",
      "source": [
        "# A4 Similarity Measure\n",
        "df1_temp = df1\n",
        "df1_bool = df1_temp.select_dtypes('bool')\n",
        "df1_bool.insert(0, 'sex', df1_temp['sex'].tolist(), True)\n",
        "df1_bool['sex'].replace(\"M\", False, inplace=True)\n",
        "df1_bool['sex'].replace(\"F\", True, inplace=True)"
      ],
      "outputs": [
        {
          "output_type": "stream",
          "name": "stderr",
          "text": "C:\\Users\\USER\\anaconda3\\lib\\site-packages\\pandas\\core\\generic.py:6619: SettingWithCopyWarning: \nA value is trying to be set on a copy of a slice from a DataFrame\n\nSee the caveats in the documentation: https://pandas.pydata.org/pandas-docs/stable/user_guide/indexing.html#returning-a-view-versus-a-copy\n  return self._update_inplace(result)\n"
        }
      ],
      "execution_count": 16,
      "metadata": {},
      "id": "140584fd"
    },
    {
      "cell_type": "code",
      "source": [
        "def return_11(l1, l2):\n",
        "    temp = []\n",
        "    for i in range(len(l1)):\n",
        "        temp.append(l1[i] and l2[i])\n",
        "    cnt = temp.count(True)\n",
        "    return cnt\n",
        "    \n",
        "def return_00(l1, l2):\n",
        "    temp = []\n",
        "    for i in range(len(l1)):\n",
        "        temp.append(not l1[i] and not l2[i])\n",
        "    cnt = temp.count(True)\n",
        "    return cnt\n",
        "    \n",
        "def jaccard_coefficient(l1, l2):\n",
        "    f_00 = return_00(l1, l2)\n",
        "    f_11 = return_11(l1, l2)\n",
        "    num = f_11\n",
        "    den = len(x1) - f_00\n",
        "    return (num / den)\n",
        "\n",
        "def SMC(l1, l2):\n",
        "    f_00 = return_00(l1, l2)\n",
        "    f_11 = return_11(l1, l2)\n",
        "    num = f_11 + f_00\n",
        "    den = len(x1)\n",
        "    return (num / den)\n",
        "\n",
        "x1 = df1_bool.iloc[0].tolist()\n",
        "x2 = df1_bool.iloc[1].tolist()\n",
        "\n",
        "print(\"Jaccard Index: \", jaccard_coefficient(x1, x2), \" SMC: \", SMC(x1, x2))"
      ],
      "outputs": [
        {
          "output_type": "stream",
          "name": "stdout",
          "text": "Jaccard Index:  0.4  SMC:  0.8571428571428571\n"
        }
      ],
      "execution_count": 17,
      "metadata": {},
      "id": "1225d70c"
    },
    {
      "cell_type": "code",
      "source": [
        "# A5 Cosine Similiarity Measure\n",
        "\n",
        "df1_simil = df1.iloc[:,2:29]\n",
        "df1_simil.replace(True, 1, inplace=True)\n",
        "df1_simil.replace(False, 0, inplace=True)\n",
        "df1_simil['sex'].replace(\"M\", 0, inplace=True)\n",
        "df1_simil['sex'].replace(\"F\", 1, inplace=True)"
      ],
      "outputs": [],
      "execution_count": 18,
      "metadata": {},
      "id": "2d0e0d41"
    },
    {
      "cell_type": "code",
      "source": [
        "import numpy as np\n",
        "from numpy.linalg import norm\n",
        "\n",
        "def cosine_similarity(A, B):\n",
        "    cosine = np.dot(A,B)/(norm(A)*norm(B))\n",
        "    return cosine\n",
        "\n",
        "y1 = df1_simil.iloc[0].to_numpy()\n",
        "y2 = df1_simil.iloc[1].to_numpy()\n",
        "\n",
        "cosine_similarity(y1, y2)"
      ],
      "outputs": [
        {
          "output_type": "execute_result",
          "execution_count": 19,
          "data": {
            "text/plain": "0.6323327261959172"
          },
          "metadata": {}
        }
      ],
      "execution_count": 19,
      "metadata": {},
      "id": "1780bd1b"
    },
    {
      "cell_type": "code",
      "source": [
        "# A6 Heatmap Plot\n",
        "import seaborn as sns\n",
        "\n",
        "jc = []\n",
        "smc = []\n",
        "cos = []\n",
        "\n",
        "for i in range(20):\n",
        "    jc.append(jaccard_coefficient(df1_bool.iloc[i].tolist(), df1_bool.iloc[i + 1].tolist()))\n",
        "    smc.append(SMC(df1_bool.iloc[i].tolist(), df1_bool.iloc[i + 1].tolist()))\n",
        "    cos.append(cosine_similarity(df1_simil.iloc[i].tolist(), df1_simil.iloc[i + 1].tolist()))\n",
        "\n",
        "data = [jc, smc, cos]\n",
        "sns.heatmap(data, annot = True)"
      ],
      "outputs": [
        {
          "output_type": "execute_result",
          "execution_count": 20,
          "data": {
            "text/plain": "<AxesSubplot:>"
          },
          "metadata": {}
        },
        {
          "output_type": "display_data",
          "data": {
            "image/png": "[encoded data removed]",
            "text/plain": "<Figure size 432x288 with 2 Axes>"
          },
          "metadata": {
            "needs_background": "light"
          }
        }
      ],
      "execution_count": 20,
      "metadata": {},
      "id": "6d1b6d1b"
    },
    {
      "cell_type": "code",
      "source": [],
      "outputs": [],
      "execution_count": null,
      "metadata": {},
      "id": "3208e8f9"
    }
  ],
  "metadata": {
    "kernelspec": {
      "display_name": "Python 3 (ipykernel)",
      "language": "python",
      "name": "python3"
    },
    "language_info": {
      "codemirror_mode": {
        "name": "ipython",
        "version": 3
      },
      "file_extension": ".py",
      "mimetype": "text/x-python",
      "name": "python",
      "nbconvert_exporter": "python",
      "pygments_lexer": "ipython3",
      "version": "3.9.7"
    },
    "nteract": {
      "version": "nteract-front-end@1.0.0"
    }
  },
  "nbformat": 4,
  "nbformat_minor": 5
}