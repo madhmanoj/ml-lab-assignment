{
 "cells": [
  {
   "cell_type": "code",
   "execution_count": 1,
   "metadata": {},
   "outputs": [
    {
     "data": {
      "text/html": [
       "<div>\n",
       "<style scoped>\n",
       "    .dataframe tbody tr th:only-of-type {\n",
       "        vertical-align: middle;\n",
       "    }\n",
       "\n",
       "    .dataframe tbody tr th {\n",
       "        vertical-align: top;\n",
       "    }\n",
       "\n",
       "    .dataframe thead th {\n",
       "        text-align: right;\n",
       "    }\n",
       "</style>\n",
       "<table border=\"1\" class=\"dataframe\">\n",
       "  <thead>\n",
       "    <tr style=\"text-align: right;\">\n",
       "      <th></th>\n",
       "      <th>Category</th>\n",
       "      <th>Message</th>\n",
       "    </tr>\n",
       "  </thead>\n",
       "  <tbody>\n",
       "    <tr>\n",
       "      <th>0</th>\n",
       "      <td>ham</td>\n",
       "      <td>Go until jurong point, crazy.. Available only ...</td>\n",
       "    </tr>\n",
       "    <tr>\n",
       "      <th>1</th>\n",
       "      <td>ham</td>\n",
       "      <td>Ok lar... Joking wif u oni...</td>\n",
       "    </tr>\n",
       "    <tr>\n",
       "      <th>2</th>\n",
       "      <td>spam</td>\n",
       "      <td>Free entry in 2 a wkly comp to win FA Cup fina...</td>\n",
       "    </tr>\n",
       "    <tr>\n",
       "      <th>3</th>\n",
       "      <td>ham</td>\n",
       "      <td>U dun say so early hor... U c already then say...</td>\n",
       "    </tr>\n",
       "    <tr>\n",
       "      <th>4</th>\n",
       "      <td>ham</td>\n",
       "      <td>Nah I don't think he goes to usf, he lives aro...</td>\n",
       "    </tr>\n",
       "  </tbody>\n",
       "</table>\n",
       "</div>"
      ],
      "text/plain": [
       "  Category                                            Message\n",
       "0      ham  Go until jurong point, crazy.. Available only ...\n",
       "1      ham                      Ok lar... Joking wif u oni...\n",
       "2     spam  Free entry in 2 a wkly comp to win FA Cup fina...\n",
       "3      ham  U dun say so early hor... U c already then say...\n",
       "4      ham  Nah I don't think he goes to usf, he lives aro..."
      ]
     },
     "execution_count": 1,
     "metadata": {},
     "output_type": "execute_result"
    }
   ],
   "source": [
    "import pandas as pd\n",
    "import numpy as np\n",
    "\n",
    "df = pd.read_csv(\"data/lab3.csv\")\n",
    "\n",
    "df.head()"
   ]
  },
  {
   "cell_type": "code",
   "execution_count": 2,
   "metadata": {},
   "outputs": [
    {
     "data": {
      "text/plain": [
       "array([[0., 0., 0., ..., 0., 0., 0.],\n",
       "       [0., 0., 0., ..., 0., 0., 0.],\n",
       "       [0., 0., 0., ..., 0., 0., 0.],\n",
       "       ...,\n",
       "       [0., 0., 0., ..., 0., 0., 0.],\n",
       "       [0., 0., 0., ..., 0., 0., 0.],\n",
       "       [0., 0., 0., ..., 0., 0., 0.]])"
      ]
     },
     "execution_count": 2,
     "metadata": {},
     "output_type": "execute_result"
    }
   ],
   "source": [
    "# A1\n",
    "# Two class problem, training a SVM on text classification dataset\n",
    "\n",
    "from sklearn import svm\n",
    "from sklearn.model_selection import train_test_split\n",
    "\n",
    "# Creating similar size samples of ham and spam\n",
    "ham = df[df['Category'] == 'ham']\n",
    "spam = df[df['Category'] == 'spam']\n",
    "ham = ham.sample(spam.shape[0])\n",
    "\n",
    "# Now combine these to form a dataset\n",
    "dataset = pd.concat([ham, spam], ignore_index=True)\n",
    "\n",
    "# Split for training and testing \n",
    "X_train, X_test, y_train, y_test = train_test_split(dataset['Message'], dataset['Category'], test_size=0.3)\n",
    "\n",
    "# Convert to numeric vector format for model\n",
    "from sklearn.feature_extraction.text import TfidfVectorizer\n",
    "tfid = TfidfVectorizer()\n",
    "X_train = tfid.fit_transform(X_train).toarray()\n",
    "X_test = tfid.transform(X_test).toarray()\n",
    "# y_train = tfid.transform(y_train).toarray()\n",
    "# y_test = tfid.transform(y_test).toarray()\n",
    "\n",
    "# Train the model\n",
    "svc_classifier = svm.SVC() # Kernel: rbf (radial-basis function) \n",
    "\n",
    "svc_classifier.fit(X_train, y_train)\n",
    "\n",
    "# Show the support vectors\n",
    "svc_classifier.support_vectors_"
   ]
  },
  {
   "cell_type": "code",
   "execution_count": 3,
   "metadata": {},
   "outputs": [
    {
     "name": "stdout",
     "output_type": "stream",
     "text": [
      "The accuracy is: 0.955456570155902\n"
     ]
    }
   ],
   "source": [
    "# A2\n",
    "# Accuracy of model\n",
    "\n",
    "print(f\"The accuracy is: {svc_classifier.score(X_test, y_test)}\")"
   ]
  },
  {
   "cell_type": "code",
   "execution_count": 4,
   "metadata": {},
   "outputs": [
    {
     "data": {
      "text/html": [
       "<div>\n",
       "<style scoped>\n",
       "    .dataframe tbody tr th:only-of-type {\n",
       "        vertical-align: middle;\n",
       "    }\n",
       "\n",
       "    .dataframe tbody tr th {\n",
       "        vertical-align: top;\n",
       "    }\n",
       "\n",
       "    .dataframe thead th {\n",
       "        text-align: right;\n",
       "    }\n",
       "</style>\n",
       "<table border=\"1\" class=\"dataframe\">\n",
       "  <thead>\n",
       "    <tr style=\"text-align: right;\">\n",
       "      <th></th>\n",
       "      <th>Actual Values</th>\n",
       "      <th>Predicted Values</th>\n",
       "    </tr>\n",
       "  </thead>\n",
       "  <tbody>\n",
       "    <tr>\n",
       "      <th>1459</th>\n",
       "      <td>spam</td>\n",
       "      <td>spam</td>\n",
       "    </tr>\n",
       "    <tr>\n",
       "      <th>1463</th>\n",
       "      <td>spam</td>\n",
       "      <td>spam</td>\n",
       "    </tr>\n",
       "    <tr>\n",
       "      <th>1467</th>\n",
       "      <td>spam</td>\n",
       "      <td>spam</td>\n",
       "    </tr>\n",
       "    <tr>\n",
       "      <th>1473</th>\n",
       "      <td>spam</td>\n",
       "      <td>spam</td>\n",
       "    </tr>\n",
       "    <tr>\n",
       "      <th>1476</th>\n",
       "      <td>spam</td>\n",
       "      <td>spam</td>\n",
       "    </tr>\n",
       "    <tr>\n",
       "      <th>1479</th>\n",
       "      <td>spam</td>\n",
       "      <td>spam</td>\n",
       "    </tr>\n",
       "    <tr>\n",
       "      <th>1480</th>\n",
       "      <td>spam</td>\n",
       "      <td>spam</td>\n",
       "    </tr>\n",
       "    <tr>\n",
       "      <th>1484</th>\n",
       "      <td>spam</td>\n",
       "      <td>spam</td>\n",
       "    </tr>\n",
       "    <tr>\n",
       "      <th>1488</th>\n",
       "      <td>spam</td>\n",
       "      <td>spam</td>\n",
       "    </tr>\n",
       "    <tr>\n",
       "      <th>1490</th>\n",
       "      <td>spam</td>\n",
       "      <td>ham</td>\n",
       "    </tr>\n",
       "  </tbody>\n",
       "</table>\n",
       "</div>"
      ],
      "text/plain": [
       "     Actual Values Predicted Values\n",
       "1459          spam             spam\n",
       "1463          spam             spam\n",
       "1467          spam             spam\n",
       "1473          spam             spam\n",
       "1476          spam             spam\n",
       "1479          spam             spam\n",
       "1480          spam             spam\n",
       "1484          spam             spam\n",
       "1488          spam             spam\n",
       "1490          spam              ham"
      ]
     },
     "execution_count": 4,
     "metadata": {},
     "output_type": "execute_result"
    }
   ],
   "source": [
    "# A3\n",
    "# Comparing true values with predicted values using trained SVM classifier \n",
    "\n",
    "prediction_dframe = pd.DataFrame()\n",
    "\n",
    "prediction_dframe['Actual Values'] = y_test\n",
    "\n",
    "# Predict values of test data\n",
    "y_pred = svc_classifier.predict(X_test)\n",
    "prediction_dframe['Predicted Values'] = y_pred\n",
    "\n",
    "# Show dataframe comparing actual and predicted values\n",
    "prediction_dframe.sort_index(axis=0).tail(10)"
   ]
  },
  {
   "cell_type": "code",
   "execution_count": 5,
   "metadata": {},
   "outputs": [
    {
     "name": "stdout",
     "output_type": "stream",
     "text": [
      "The accuracy for kernel 'rbf' is: 0.955456570155902\n",
      "Accuracy score of kernel 'linear' is: 0.9599109131403119\n"
     ]
    }
   ],
   "source": [
    "# A4\n",
    "# Various kernel functions : linear, poly, rbf, sigmoid\n",
    "# Kernel function:  The function of kernel is to take data as input and transform it into \n",
    "# the required form. \n",
    "# Rbf is default kernel hence we have already observed the accuracy above\n",
    "print(f\"The accuracy for kernel 'rbf' is: {svc_classifier.score(X_test, y_test)}\")\n",
    "\n",
    "# Train and fit the model for linear kernel function\n",
    "kernel_name = \"linear\"\n",
    "svc_linear = svm.SVC(kernel=kernel_name)\n",
    "svc_linear.fit(X_train, y_train)\n",
    "\n",
    "# Accuracy score\n",
    "print(f\"Accuracy score of kernel '{kernel_name}' is: {svc_linear.score(X_test, y_test)}\")"
   ]
  },
  {
   "cell_type": "code",
   "execution_count": 6,
   "metadata": {},
   "outputs": [
    {
     "name": "stdout",
     "output_type": "stream",
     "text": [
      "Accuracy score of kernel 'poly' is: 0.8641425389755011\n"
     ]
    }
   ],
   "source": [
    "# Train and fit the model for poly kernel function\n",
    "kernel_name = \"poly\"\n",
    "svc_poly = svm.SVC(kernel=kernel_name)\n",
    "svc_poly.fit(X_train, y_train)\n",
    "\n",
    "# Accuracy score\n",
    "print(f\"Accuracy score of kernel '{kernel_name}' is: {svc_poly.score(X_test, y_test)}\")"
   ]
  },
  {
   "cell_type": "code",
   "execution_count": 7,
   "metadata": {},
   "outputs": [
    {
     "name": "stdout",
     "output_type": "stream",
     "text": [
      "Accuracy score of kernel 'sigmoid' is: 0.9599109131403119\n"
     ]
    }
   ],
   "source": [
    "# Train and fit the model for sigmoid kernel function\n",
    "kernel_name = \"sigmoid\"\n",
    "svc_sigmoid = svm.SVC(kernel=kernel_name)\n",
    "svc_sigmoid.fit(X_train, y_train)\n",
    "\n",
    "# Accuracy score\n",
    "print(f\"Accuracy score of kernel '{kernel_name}' is: {svc_sigmoid.score(X_test, y_test)}\")"
   ]
  }
 ],
 "metadata": {
  "kernelspec": {
   "display_name": "Python 3",
   "language": "python",
   "name": "python3"
  },
  "language_info": {
   "codemirror_mode": {
    "name": "ipython",
    "version": 3
   },
   "file_extension": ".py",
   "mimetype": "text/x-python",
   "name": "python",
   "nbconvert_exporter": "python",
   "pygments_lexer": "ipython3",
   "version": "3.10.12"
  }
 },
 "nbformat": 4,
 "nbformat_minor": 2
}
